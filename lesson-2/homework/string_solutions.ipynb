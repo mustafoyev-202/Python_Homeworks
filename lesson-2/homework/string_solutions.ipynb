{
 "cells": [
  {
   "cell_type": "code",
   "execution_count": 4,
   "metadata": {},
   "outputs": [
    {
     "name": "stdout",
     "output_type": "stream",
     "text": [
      "Hello Baxtiyor, you are 19 years old.\n"
     ]
    }
   ],
   "source": [
    "name = input(\"Enter your name: \")\n",
    "year_of_birth = int(input(\"Enter your year of birth: \"))\n",
    "\n",
    "current_year = 2025\n",
    "age = current_year - year_of_birth\n",
    "\n",
    "print(f\"Hello {name}, you are {age} years old.\")"
   ]
  },
  {
   "cell_type": "code",
   "execution_count": 6,
   "metadata": {},
   "outputs": [
    {
     "name": "stdout",
     "output_type": "stream",
     "text": [
      "Extracted car names: Lasetti\n"
     ]
    }
   ],
   "source": [
    "txt = 'LMaasleitbtui'\n",
    "\n",
    "# Extract car names from the text\n",
    "car_names = txt[::2]\n",
    "\n",
    "print(f\"Extracted car names: {car_names}\")"
   ]
  },
  {
   "cell_type": "code",
   "execution_count": 8,
   "metadata": {},
   "outputs": [
    {
     "name": "stdout",
     "output_type": "stream",
     "text": [
      "The length of the string is: 5\n",
      "The string in uppercase is: SALOM\n",
      "The string in lowercase is: salom\n"
     ]
    }
   ],
   "source": [
    "user_string = input(\"Enter a string: \")\n",
    "\n",
    "# Print the length of the string\n",
    "string_length = len(user_string)\n",
    "print(f\"The length of the string is: {string_length}\")\n",
    "\n",
    "# Convert the string to uppercase\n",
    "uppercase_string = user_string.upper()\n",
    "print(f\"The string in uppercase is: {uppercase_string}\")\n",
    "\n",
    "# Convert the string to lowercase\n",
    "lowercase_string = user_string.lower()\n",
    "print(f\"The string in lowercase is: {lowercase_string}\")"
   ]
  },
  {
   "cell_type": "code",
   "execution_count": 9,
   "metadata": {},
   "outputs": [
    {
     "name": "stdout",
     "output_type": "stream",
     "text": [
      "The string 'Aka' is a palindrome.\n"
     ]
    }
   ],
   "source": [
    "user_string = input(\"Enter a string to check if it is a palindrome: \")\n",
    "\n",
    "# Remove any spaces and convert to lowercase for accurate comparison\n",
    "processed_string = user_string.replace(\" \", \"\").lower()\n",
    "\n",
    "# Check if the string is equal to its reverse\n",
    "if processed_string == processed_string[::-1]:\n",
    "    print(f\"The string '{user_string}' is a palindrome.\")\n",
    "else:\n",
    "    print(f\"The string '{user_string}' is not a palindrome.\")"
   ]
  },
  {
   "cell_type": "code",
   "execution_count": 10,
   "metadata": {},
   "outputs": [
    {
     "name": "stdout",
     "output_type": "stream",
     "text": [
      "The number of vowels in the string is: 2\n",
      "The number of consonants in the string is: 3\n"
     ]
    }
   ],
   "source": [
    "user_string = input(\"Enter a string to count vowels and consonants: \")\n",
    "\n",
    "# Initialize counters for vowels and consonants\n",
    "vowel_count = 0\n",
    "consonant_count = 0\n",
    "\n",
    "# Define vowels\n",
    "vowels = \"aeiouAEIOU\"\n",
    "\n",
    "# Iterate through each character in the string\n",
    "for char in user_string:\n",
    "    if char.isalpha():  # Check if the character is a letter\n",
    "        if char in vowels:\n",
    "            vowel_count += 1\n",
    "        else:\n",
    "            consonant_count += 1\n",
    "\n",
    "print(f\"The number of vowels in the string is: {vowel_count}\")\n",
    "print(f\"The number of consonants in the string is: {consonant_count}\")"
   ]
  },
  {
   "cell_type": "code",
   "execution_count": 11,
   "metadata": {},
   "outputs": [
    {
     "name": "stdout",
     "output_type": "stream",
     "text": [
      "The string 'Salom' does not contain the string 'Salomaleykum'.\n"
     ]
    }
   ],
   "source": [
    "# Prompt the user to enter two strings\n",
    "string1 = input(\"Enter the first string: \")\n",
    "string2 = input(\"Enter the second string: \")\n",
    "\n",
    "# Check if the second string is contained within the first string\n",
    "if string2 in string1:\n",
    "    print(f\"The string '{string1}' contains the string '{string2}'.\")\n",
    "else:\n",
    "    print(f\"The string '{string1}' does not contain the string '{string2}'.\")"
   ]
  },
  {
   "cell_type": "code",
   "execution_count": 12,
   "metadata": {},
   "outputs": [
    {
     "name": "stdout",
     "output_type": "stream",
     "text": [
      "The new sentence is: Salom\n"
     ]
    }
   ],
   "source": [
    "# Prompt the user to enter a sentence\n",
    "sentence = input(\"Enter a sentence: \")\n",
    "\n",
    "# Prompt the user to enter the word to replace\n",
    "word_to_replace = input(\"Enter the word to replace: \")\n",
    "\n",
    "# Prompt the user to enter the new word\n",
    "new_word = input(\"Enter the new word: \")\n",
    "\n",
    "# Replace the word in the sentence\n",
    "new_sentence = sentence.replace(word_to_replace, new_word)\n",
    "\n",
    "# Print the new sentence\n",
    "print(f\"The new sentence is: {new_sentence}\")"
   ]
  },
  {
   "cell_type": "code",
   "execution_count": 13,
   "metadata": {},
   "outputs": [
    {
     "name": "stdout",
     "output_type": "stream",
     "text": [
      "The first character of the string is: S\n",
      "The last character of the string is: m\n"
     ]
    }
   ],
   "source": [
    "# Prompt the user to enter a string\n",
    "user_string = input(\"Enter a string: \")\n",
    "\n",
    "# Get the first and last characters of the string\n",
    "first_char = user_string[0]\n",
    "last_char = user_string[-1]\n",
    "\n",
    "# Print the first and last characters\n",
    "print(f\"The first character of the string is: {first_char}\")\n",
    "print(f\"The last character of the string is: {last_char}\")"
   ]
  },
  {
   "cell_type": "code",
   "execution_count": 14,
   "metadata": {},
   "outputs": [
    {
     "name": "stdout",
     "output_type": "stream",
     "text": [
      "The reversed string is: molaS\n"
     ]
    }
   ],
   "source": [
    "# Prompt the user to enter a string\n",
    "user_string = input(\"Enter a string: \")\n",
    "\n",
    "# Reverse the string\n",
    "reversed_string = user_string[::-1]\n",
    "\n",
    "# Print the reversed string\n",
    "print(f\"The reversed string is: {reversed_string}\")"
   ]
  },
  {
   "cell_type": "code",
   "execution_count": 15,
   "metadata": {},
   "outputs": [
    {
     "name": "stdout",
     "output_type": "stream",
     "text": [
      "The number of words in the sentence is: 1\n"
     ]
    }
   ],
   "source": [
    "# Prompt the user to enter a sentence\n",
    "sentence = input(\"Enter a sentence: \")\n",
    "\n",
    "# Split the sentence into words\n",
    "words = sentence.split()\n",
    "\n",
    "# Count the number of words\n",
    "word_count = len(words)\n",
    "\n",
    "# Print the number of words\n",
    "print(f\"The number of words in the sentence is: {word_count}\")"
   ]
  },
  {
   "cell_type": "code",
   "execution_count": 16,
   "metadata": {},
   "outputs": [
    {
     "name": "stdout",
     "output_type": "stream",
     "text": [
      "The string does not contain any digits.\n"
     ]
    }
   ],
   "source": [
    "# Prompt the user to enter a string\n",
    "user_string = input(\"Enter a string: \")\n",
    "\n",
    "# Check if the string contains any digits\n",
    "contains_digit = any(char.isdigit() for char in user_string)\n",
    "\n",
    "# Print the result\n",
    "if contains_digit:\n",
    "    print(\"The string contains digits.\")\n",
    "else:\n",
    "    print(\"The string does not contain any digits.\")"
   ]
  },
  {
   "cell_type": "code",
   "execution_count": 17,
   "metadata": {},
   "outputs": [
    {
     "name": "stdout",
     "output_type": "stream",
     "text": [
      "The joined string is: salom\n"
     ]
    }
   ],
   "source": [
    "# Prompt the user to enter a list of words separated by spaces\n",
    "words = input(\"Enter a list of words separated by spaces: \").split()\n",
    "\n",
    "# Prompt the user to enter a character to join the words\n",
    "separator = input(\"Enter a character to join the words: \")\n",
    "\n",
    "# Join the words into a single string separated by the specified character\n",
    "joined_string = separator.join(words)\n",
    "\n",
    "# Print the joined string\n",
    "print(f\"The joined string is: {joined_string}\")"
   ]
  },
  {
   "cell_type": "code",
   "execution_count": 18,
   "metadata": {},
   "outputs": [
    {
     "name": "stdout",
     "output_type": "stream",
     "text": [
      "The string without spaces is: salom\n"
     ]
    }
   ],
   "source": [
    "# Prompt the user to enter a string\n",
    "user_string = input(\"Enter a string: \")\n",
    "\n",
    "# Remove all spaces from the string\n",
    "string_without_spaces = user_string.replace(\" \", \"\")\n",
    "\n",
    "# Print the result\n",
    "print(f\"The string without spaces is: {string_without_spaces}\")"
   ]
  },
  {
   "cell_type": "code",
   "execution_count": 19,
   "metadata": {},
   "outputs": [
    {
     "name": "stdout",
     "output_type": "stream",
     "text": [
      "The strings are not equal.\n"
     ]
    }
   ],
   "source": [
    "# Prompt the user to enter the first string\n",
    "string1 = input(\"Enter the first string: \")\n",
    "\n",
    "# Prompt the user to enter the second string\n",
    "string2 = input(\"Enter the second string: \")\n",
    "\n",
    "# Check if the strings are equal\n",
    "if string1 == string2:\n",
    "    print(\"The strings are equal.\")\n",
    "else:\n",
    "    print(\"The strings are not equal.\")"
   ]
  },
  {
   "cell_type": "code",
   "execution_count": 20,
   "metadata": {},
   "outputs": [
    {
     "name": "stdout",
     "output_type": "stream",
     "text": [
      "The acronym is: S\n"
     ]
    }
   ],
   "source": [
    "# Prompt the user to enter a sentence\n",
    "sentence = input(\"Enter a sentence: \")\n",
    "\n",
    "# Split the sentence into words\n",
    "words = sentence.split()\n",
    "\n",
    "# Create an acronym by taking the first letter of each word and converting it to uppercase\n",
    "acronym = ''.join(word[0].upper() for word in words)\n",
    "\n",
    "# Print the acronym\n",
    "print(f\"The acronym is: {acronym}\")"
   ]
  },
  {
   "cell_type": "code",
   "execution_count": 21,
   "metadata": {},
   "outputs": [
    {
     "name": "stdout",
     "output_type": "stream",
     "text": [
      "The string after removing 'ksdjs' is: slaok\n"
     ]
    }
   ],
   "source": [
    "# Prompt the user to enter a string\n",
    "user_string = input(\"Enter a string: \")\n",
    "\n",
    "# Prompt the user to enter a character to remove\n",
    "char_to_remove = input(\"Enter a character to remove: \")\n",
    "\n",
    "# Remove all occurrences of the character from the string\n",
    "result_string = user_string.replace(char_to_remove, \"\")\n",
    "\n",
    "# Print the result\n",
    "print(f\"The string after removing '{char_to_remove}' is: {result_string}\")"
   ]
  },
  {
   "cell_type": "code",
   "execution_count": 22,
   "metadata": {},
   "outputs": [
    {
     "name": "stdout",
     "output_type": "stream",
     "text": [
      "The string after replacing vowels with '*' is: ddwds\n"
     ]
    }
   ],
   "source": [
    "# Prompt the user to enter a string\n",
    "user_string = input(\"Enter a string: \")\n",
    "\n",
    "# Define the vowels\n",
    "vowels = \"AEIOUaeiou\"\n",
    "\n",
    "# Define the symbol to replace vowels\n",
    "symbol = \"*\"\n",
    "\n",
    "# Replace all vowels in the string with the symbol\n",
    "result_string = ''.join(symbol if char in vowels else char for char in user_string)\n",
    "\n",
    "# Print the result\n",
    "print(f\"The string after replacing vowels with '{symbol}' is: {result_string}\")"
   ]
  },
  {
   "cell_type": "code",
   "execution_count": 23,
   "metadata": {},
   "outputs": [
    {
     "name": "stdout",
     "output_type": "stream",
     "text": [
      "The string does not start with 'sdjhsdj' and end with 'dkkhsjdd'.\n"
     ]
    }
   ],
   "source": [
    "# Prompt the user to enter a string\n",
    "user_string = input(\"Enter a string: \")\n",
    "\n",
    "# Prompt the user to enter the starting word\n",
    "start_word = input(\"Enter the starting word: \")\n",
    "\n",
    "# Prompt the user to enter the ending word\n",
    "end_word = input(\"Enter the ending word: \")\n",
    "\n",
    "# Check if the string starts with the given starting word and ends with the given ending word\n",
    "starts_with = user_string.startswith(start_word)\n",
    "ends_with = user_string.endswith(end_word)\n",
    "\n",
    "# Print the result\n",
    "if starts_with and ends_with:\n",
    "    print(f\"The string starts with '{start_word}' and ends with '{end_word}'.\")\n",
    "else:\n",
    "    print(f\"The string does not start with '{start_word}' and end with '{end_word}'.\")"
   ]
  },
  {
   "cell_type": "code",
   "execution_count": null,
   "metadata": {},
   "outputs": [],
   "source": []
  }
 ],
 "metadata": {
  "kernelspec": {
   "display_name": "Python (myenv)",
   "language": "python",
   "name": "myenv"
  },
  "language_info": {
   "codemirror_mode": {
    "name": "ipython",
    "version": 3
   },
   "file_extension": ".py",
   "mimetype": "text/x-python",
   "name": "python",
   "nbconvert_exporter": "python",
   "pygments_lexer": "ipython3",
   "version": "3.11.9"
  }
 },
 "nbformat": 4,
 "nbformat_minor": 2
}
