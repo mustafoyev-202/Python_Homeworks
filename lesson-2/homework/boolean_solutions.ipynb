{
 "cells": [
  {
   "cell_type": "code",
   "execution_count": 1,
   "metadata": {},
   "outputs": [
    {
     "name": "stdout",
     "output_type": "stream",
     "text": [
      "Username or password is missing.\n"
     ]
    }
   ],
   "source": [
    "def check_credentials(username, password):\n",
    "    if username and password:\n",
    "        return True\n",
    "    else:\n",
    "        return False\n",
    "\n",
    "# Example usage:\n",
    "username = input(\"Enter username: \")\n",
    "password = input(\"Enter password: \")\n",
    "\n",
    "if check_credentials(username, password):\n",
    "    print(\"Both username and password are provided.\")\n",
    "else:\n",
    "    print(\"Username or password is missing.\")"
   ]
  },
  {
   "cell_type": "code",
   "execution_count": 2,
   "metadata": {},
   "outputs": [
    {
     "name": "stdout",
     "output_type": "stream",
     "text": [
      "The numbers are not equal.\n"
     ]
    }
   ],
   "source": [
    "def check_equality(num1, num2):\n",
    "    if num1 == num2:\n",
    "        return True\n",
    "    else:\n",
    "        return False\n",
    "\n",
    "# Example usage:\n",
    "num1 = int(input(\"Enter the first number: \"))\n",
    "num2 = int(input(\"Enter the second number: \"))\n",
    "\n",
    "if check_equality(num1, num2):\n",
    "    print(\"The numbers are equal.\")\n",
    "else:\n",
    "    print(\"The numbers are not equal.\")"
   ]
  },
  {
   "cell_type": "code",
   "execution_count": 3,
   "metadata": {},
   "outputs": [
    {
     "name": "stdout",
     "output_type": "stream",
     "text": [
      "The number is positive and even.\n"
     ]
    }
   ],
   "source": [
    "def is_positive_and_even(number):\n",
    "    if number > 0 and number % 2 == 0:\n",
    "        return True\n",
    "    else:\n",
    "        return False\n",
    "\n",
    "# Example usage:\n",
    "number = int(input(\"Enter a number: \"))\n",
    "\n",
    "if is_positive_and_even(number):\n",
    "    print(\"The number is positive and even.\")\n",
    "else:\n",
    "    print(\"The number is not positive and even.\")"
   ]
  },
  {
   "cell_type": "code",
   "execution_count": 4,
   "metadata": {},
   "outputs": [
    {
     "name": "stdout",
     "output_type": "stream",
     "text": [
      "Some numbers are the same.\n"
     ]
    }
   ],
   "source": [
    "def are_all_different(num1, num2, num3):\n",
    "    if num1 != num2 and num1 != num3 and num2 != num3:\n",
    "        return True\n",
    "    else:\n",
    "        return False\n",
    "\n",
    "# Example usage:\n",
    "num1 = int(input(\"Enter the first number: \"))\n",
    "num2 = int(input(\"Enter the second number: \"))\n",
    "num3 = int(input(\"Enter the third number: \"))\n",
    "\n",
    "if are_all_different(num1, num2, num3):\n",
    "    print(\"All numbers are different.\")\n",
    "else:\n",
    "    print(\"Some numbers are the same.\")"
   ]
  },
  {
   "cell_type": "code",
   "execution_count": 5,
   "metadata": {},
   "outputs": [
    {
     "name": "stdout",
     "output_type": "stream",
     "text": [
      "The strings have the same length.\n"
     ]
    }
   ],
   "source": [
    "def check_same_length(str1, str2):\n",
    "    if len(str1) == len(str2):\n",
    "        return True\n",
    "    else:\n",
    "        return False\n",
    "\n",
    "# Example usage:\n",
    "str1 = input(\"Enter the first string: \")\n",
    "str2 = input(\"Enter the second string: \")\n",
    "\n",
    "if check_same_length(str1, str2):\n",
    "    print(\"The strings have the same length.\")\n",
    "else:\n",
    "    print(\"The strings do not have the same length.\")"
   ]
  },
  {
   "cell_type": "code",
   "execution_count": 6,
   "metadata": {},
   "outputs": [
    {
     "name": "stdout",
     "output_type": "stream",
     "text": [
      "The number is not divisible by both 3 and 5.\n"
     ]
    }
   ],
   "source": [
    "def is_divisible_by_3_and_5(number):\n",
    "    if number % 3 == 0 and number % 5 == 0:\n",
    "        return True\n",
    "    else:\n",
    "        return False\n",
    "\n",
    "# Example usage:\n",
    "number = int(input(\"Enter a number: \"))\n",
    "\n",
    "if is_divisible_by_3_and_5(number):\n",
    "    print(\"The number is divisible by both 3 and 5.\")\n",
    "else:\n",
    "    print(\"The number is not divisible by both 3 and 5.\")"
   ]
  },
  {
   "cell_type": "code",
   "execution_count": 8,
   "metadata": {},
   "outputs": [
    {
     "name": "stdout",
     "output_type": "stream",
     "text": [
      "The sum of the two numbers is not greater than 50.8.\n"
     ]
    }
   ],
   "source": [
    "def is_sum_greater_than_50_8(num1, num2):\n",
    "    if (num1 + num2) > 50.8:\n",
    "        return True\n",
    "    else:\n",
    "        return False\n",
    "\n",
    "# Example usage:\n",
    "num1 = float(input(\"Enter the first number: \"))\n",
    "num2 = float(input(\"Enter the second number: \"))\n",
    "\n",
    "if is_sum_greater_than_50_8(num1, num2):\n",
    "    print(\"The sum of the two numbers is greater than 50.8.\")\n",
    "else:\n",
    "    print(\"The sum of the two numbers is not greater than 50.8.\")"
   ]
  },
  {
   "cell_type": "code",
   "execution_count": 9,
   "metadata": {},
   "outputs": [
    {
     "name": "stdout",
     "output_type": "stream",
     "text": [
      "The number is between 10 and 20 (inclusive).\n"
     ]
    }
   ],
   "source": [
    "def is_between_10_and_20(number):\n",
    "    if 10 <= number <= 20:\n",
    "        return True\n",
    "    else:\n",
    "        return False\n",
    "\n",
    "# Example usage:\n",
    "number = float(input(\"Enter a number: \"))\n",
    "\n",
    "if is_between_10_and_20(number):\n",
    "    print(\"The number is between 10 and 20 (inclusive).\")\n",
    "else:\n",
    "    print(\"The number is not between 10 and 20 (inclusive).\")"
   ]
  },
  {
   "cell_type": "code",
   "execution_count": null,
   "metadata": {},
   "outputs": [],
   "source": []
  }
 ],
 "metadata": {
  "kernelspec": {
   "display_name": "Python (myenv)",
   "language": "python",
   "name": "myenv"
  },
  "language_info": {
   "codemirror_mode": {
    "name": "ipython",
    "version": 3
   },
   "file_extension": ".py",
   "mimetype": "text/x-python",
   "name": "python",
   "nbconvert_exporter": "python",
   "pygments_lexer": "ipython3",
   "version": "3.11.9"
  }
 },
 "nbformat": 4,
 "nbformat_minor": 2
}
